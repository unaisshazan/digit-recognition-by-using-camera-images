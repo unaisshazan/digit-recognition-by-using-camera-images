{
 "cells": [
  {
   "cell_type": "code",
   "execution_count": 3,
   "metadata": {},
   "outputs": [
    {
     "name": "stderr",
     "output_type": "stream",
     "text": [
      "d:\\ProgramData\\Anaconda3\\lib\\site-packages\\sklearn\\base.py:306: UserWarning: Trying to unpickle estimator LabelBinarizer from version 0.19.1 when using version 0.21.3. This might lead to breaking code or invalid results. Use at your own risk.\n",
      "  UserWarning)\n",
      "d:\\ProgramData\\Anaconda3\\lib\\site-packages\\sklearn\\base.py:306: UserWarning: Trying to unpickle estimator MLPClassifier from version 0.19.1 when using version 0.21.3. This might lead to breaking code or invalid results. Use at your own risk.\n",
      "  UserWarning)\n"
     ]
    },
    {
     "data": {
      "text/plain": [
       "True"
      ]
     },
     "execution_count": 3,
     "metadata": {},
     "output_type": "execute_result"
    }
   ],
   "source": [
    "'''\n",
    "Author:Kaustubh Devkar\n",
    "(kdevkar1998@gmail.com)\n",
    "'''\n",
    "#importing required modules\n",
    "import numpy as np,cv2,imutils\n",
    "from sklearn.externals import joblib\n",
    "\n",
    "#reading image\n",
    "img = cv2.imread('sample_image2.jpg')\n",
    "#resizing image\n",
    "img = imutils.resize(img,width=300)\n",
    "#showing original image\n",
    "cv2.imshow(\"Original\",img)\n",
    "#converting image to grayscale\n",
    "gray = cv2.cvtColor(img,cv2.COLOR_BGR2GRAY)\n",
    "#showing grayscale image\n",
    "cv2.imshow(\"Gray Image\",gray)\n",
    "\n",
    "#creating a kernel\n",
    "kernel = np.ones((40,40),np.uint8)\n",
    "\n",
    "#applying blackhat thresholding\n",
    "blackhat = cv2.morphologyEx(gray,cv2.MORPH_BLACKHAT,kernel)\n",
    "\n",
    "\n",
    "#applying OTSU's thresholding\n",
    "ret,thresh = cv2.threshold(blackhat,0,255,cv2.THRESH_BINARY+cv2.THRESH_OTSU)\n",
    "\n",
    "#performing erosion and dilation\n",
    "opening = cv2.morphologyEx(thresh, cv2.MORPH_OPEN, kernel)\n",
    "\n",
    "#finding countours in image\n",
    "ret,cnts,hie = cv2.findContours(thresh.copy(),cv2.RETR_EXTERNAL,cv2.CHAIN_APPROX_SIMPLE)\n",
    "\n",
    "#loading our ANN model\n",
    "model = joblib.load('model.pkl')\n",
    "for c in cnts:\n",
    "    try:\n",
    "        #creating a mask\n",
    "        mask = np.zeros(gray.shape,dtype=\"uint8\")\n",
    "        \n",
    "    \n",
    "        (x,y,w,h) = cv2.boundingRect(c)\n",
    "        \n",
    "        hull = cv2.convexHull(c)\n",
    "        cv2.drawContours(mask,[hull],-1,255,-1)    \n",
    "        mask = cv2.bitwise_and(thresh,thresh,mask=mask)\n",
    "\n",
    "        \n",
    "        #Getting Region of interest\n",
    "        roi = mask[y-7:y+h+7,x-7:x+w+7]       \n",
    "        roi = cv2.resize(roi,(28,28))\n",
    "        roi = np.array(roi)\n",
    "        #reshaping roi to feed image to our model\n",
    "        roi = roi.reshape(1,784)\n",
    "\n",
    "        #predicting\n",
    "        prediction = model.predict(roi)\n",
    "    \n",
    "        cv2.rectangle(img,(x,y),(x+w,y+h),(0,255,0),1)\n",
    "        cv2.putText(img,str(int(prediction)),(x,y),cv2.FONT_HERSHEY_SIMPLEX,0.8,(255,0,0),1)\n",
    "        \n",
    "    except Exception as e:\n",
    "        print(e)\n",
    "        \n",
    "img = imutils.resize(img,width=500)\n",
    "\n",
    "#showing the output\n",
    "cv2.imshow('Detection',img)\n",
    "cv2.imwrite('result2.jpg',img)\n",
    "               \n"
   ]
  },
  {
   "cell_type": "code",
   "execution_count": null,
   "metadata": {},
   "outputs": [],
   "source": []
  }
 ],
 "metadata": {
  "kernelspec": {
   "display_name": "Python 3",
   "language": "python",
   "name": "python3"
  },
  "language_info": {
   "codemirror_mode": {
    "name": "ipython",
    "version": 3
   },
   "file_extension": ".py",
   "mimetype": "text/x-python",
   "name": "python",
   "nbconvert_exporter": "python",
   "pygments_lexer": "ipython3",
   "version": "3.7.4"
  }
 },
 "nbformat": 4,
 "nbformat_minor": 2
}
